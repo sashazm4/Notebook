{
  "cells": [
    {
      "cell_type": "markdown",
      "metadata": {
        "id": "vQ_JcndqZVze"
      },
      "source": [
        "**Uncomment the following lines (by deleting the leading `#`) if you are running this in Colab. (Thanks to Jake VanderPlas for the tip!)**"
      ]
    },
    {
      "cell_type": "code",
      "execution_count": 7,
      "metadata": {
        "colab": {
          "base_uri": "https://localhost:8080/"
        },
        "id": "68HtRy-cZVzi",
        "outputId": "be81bf3b-add0-4fec-a2f3-a4ea41159169"
      },
      "outputs": [
        {
          "output_type": "stream",
          "name": "stdout",
          "text": [
            "Collecting biopython\n",
            "  Downloading biopython-1.83-cp310-cp310-manylinux_2_17_x86_64.manylinux2014_x86_64.whl (3.1 MB)\n",
            "\u001b[2K     \u001b[90m━━━━━━━━━━━━━━━━━━━━━━━━━━━━━━━━━━━━━━━━\u001b[0m \u001b[32m3.1/3.1 MB\u001b[0m \u001b[31m13.2 MB/s\u001b[0m eta \u001b[36m0:00:00\u001b[0m\n",
            "\u001b[?25hRequirement already satisfied: numpy in /usr/local/lib/python3.10/dist-packages (from biopython) (1.25.2)\n",
            "Installing collected packages: biopython\n",
            "Successfully installed biopython-1.83\n",
            "Requirement already satisfied: folium in /usr/local/lib/python3.10/dist-packages (0.14.0)\n",
            "Requirement already satisfied: branca>=0.6.0 in /usr/local/lib/python3.10/dist-packages (from folium) (0.7.2)\n",
            "Requirement already satisfied: jinja2>=2.9 in /usr/local/lib/python3.10/dist-packages (from folium) (3.1.4)\n",
            "Requirement already satisfied: numpy in /usr/local/lib/python3.10/dist-packages (from folium) (1.25.2)\n",
            "Requirement already satisfied: requests in /usr/local/lib/python3.10/dist-packages (from folium) (2.31.0)\n",
            "Requirement already satisfied: MarkupSafe>=2.0 in /usr/local/lib/python3.10/dist-packages (from jinja2>=2.9->folium) (2.1.5)\n",
            "Requirement already satisfied: charset-normalizer<4,>=2 in /usr/local/lib/python3.10/dist-packages (from requests->folium) (3.3.2)\n",
            "Requirement already satisfied: idna<4,>=2.5 in /usr/local/lib/python3.10/dist-packages (from requests->folium) (3.7)\n",
            "Requirement already satisfied: urllib3<3,>=1.21.1 in /usr/local/lib/python3.10/dist-packages (from requests->folium) (2.0.7)\n",
            "Requirement already satisfied: certifi>=2017.4.17 in /usr/local/lib/python3.10/dist-packages (from requests->folium) (2024.2.2)\n",
            "  % Total    % Received % Xferd  Average Speed   Time    Time     Time  Current\n",
            "                                 Dload  Upload   Total   Spent    Left  Speed\n",
            "100 31838  100 31838    0     0   124k      0 --:--:-- --:--:-- --:--:--  124k\n"
          ]
        }
      ],
      "source": [
        "!pip install biopython\n",
        "!pip install folium\n",
        "!curl -O https://raw.githubusercontent.com/jperkel/example_notebook/master/NC_005816.gb"
      ]
    },
    {
      "cell_type": "markdown",
      "metadata": {
        "id": "QUYCs47ZZVzk"
      },
      "source": [
        "This simple notebook demonstrates how users can interleave text, code, and results in a single document. We start with a simple calculation -- computing the first 25 numbers in the Fibonacci sequence, where each value equals the sum of the two previous values. The Jupyter notebook allows us to express that mathematically, using the typesetting language $\\LaTeX{}$: $$F_n = F_{n-1} + F_{n-2}$$\n",
        "Thus, the sequence is: 0, 1, 1, 2, 3, 5, 8, ..."
      ]
    },
    {
      "cell_type": "markdown",
      "metadata": {
        "id": "ly2qUYJ2ZVzk"
      },
      "source": [
        "The first cell contains an IPython 'magic' code, '%matplotlib', which allows the notebook to display plots inline, in the body of the notebook."
      ]
    },
    {
      "cell_type": "code",
      "execution_count": 3,
      "metadata": {
        "id": "mcfhzrmWZVzl"
      },
      "outputs": [],
      "source": [
        "%matplotlib inline"
      ]
    },
    {
      "cell_type": "code",
      "execution_count": 4,
      "metadata": {
        "id": "u1DRIO3dZVzl"
      },
      "outputs": [],
      "source": [
        "import matplotlib.pyplot as plt"
      ]
    },
    {
      "cell_type": "code",
      "execution_count": 1,
      "metadata": {
        "colab": {
          "base_uri": "https://localhost:8080/"
        },
        "id": "3-q63t4oZVzl",
        "outputId": "9398820d-a46c-4065-9846-0575c5064cf4"
      },
      "outputs": [
        {
          "output_type": "stream",
          "name": "stdout",
          "text": [
            "[0, 1, 1, 2, 3, 5, 8, 13, 21, 34, 55, 89, 144, 233, 377, 610, 987, 1597, 2584, 4181, 6765, 10946, 17711, 28657, 46368]\n"
          ]
        }
      ],
      "source": [
        "# calculate the first 25 Fibonacci numbers\n",
        "f1 = 0\n",
        "f2 = 1\n",
        "ar = [f1, f2] # a list to hold the computed values. We know the first two numbers\n",
        "\n",
        "# we only need to run our calculation 23 times, because positions 1 and 2 are known\n",
        "for i in range (23):\n",
        "    f3 = f1 + f2\n",
        "    ar.append (f3)\n",
        "    f1 = f2\n",
        "    f2 = f3\n",
        "\n",
        "print (ar) # below, you see the output of the code itself."
      ]
    },
    {
      "cell_type": "markdown",
      "metadata": {
        "id": "gA8Y_SOIZVzn"
      },
      "source": [
        "Plot the data"
      ]
    },
    {
      "cell_type": "code",
      "execution_count": 5,
      "metadata": {
        "colab": {
          "base_uri": "https://localhost:8080/",
          "height": 472
        },
        "id": "hSCdhl6EZVzn",
        "outputId": "9b8354f9-5ac0-4992-b31f-c039e9540651"
      },
      "outputs": [
        {
          "output_type": "display_data",
          "data": {
            "text/plain": [
              "<Figure size 640x480 with 1 Axes>"
            ],
            "image/png": "[encoded data removed]"
          },
          "metadata": {}
        }
      ],
      "source": [
        "fig, ax = plt.subplots()\n",
        "ax.plot (range(25), ar, \"ro\")\n",
        "## uncomment the following call to ax.plot() (by removing the leading '#') and select\n",
        "## 'Cell > Run All' (in Binder) or 'Run > Run All Cells' (Jupyter) to change the graph below\n",
        "# ax.plot (range(25), ar)\n",
        "ax.set (xlabel = \"Sequence No.\", ylabel = \"Fibonacci No.\",\n",
        "       title = \"The First 25 Fibonacci Numbers\")\n",
        "plt.show()"
      ]
    },
    {
      "cell_type": "markdown",
      "metadata": {
        "id": "NETkwnQ1ZVzo"
      },
      "source": [
        "Anything you can do programmatically, can be documented in a notebook. Here we'll do some simple sequence analysis with Biopython. The following example is adapted from the [Biopython tutorial](http://biopython.org/DIST/docs/tutorial/Tutorial.html)."
      ]
    },
    {
      "cell_type": "markdown",
      "metadata": {
        "id": "G6ee_Sr0ZVzo"
      },
      "source": [
        "First, we'll read in a Genbank-formatted file, which represents a circular DNA, called a plasmid, from the bacterium, *Yersinia pestis*."
      ]
    },
    {
      "cell_type": "code",
      "execution_count": 8,
      "metadata": {
        "colab": {
          "base_uri": "https://localhost:8080/"
        },
        "id": "T_Lcgu0cZVzo",
        "outputId": "e53e6fc3-4b6b-49cd-c924-acec6badf268"
      },
      "outputs": [
        {
          "output_type": "execute_result",
          "data": {
            "text/plain": [
              "Seq('TGTAACGAACGGTGCAATAGTGATCCACACCCAACGCCTGAAATCAGATCCAGG...CTG')"
            ]
          },
          "metadata": {},
          "execution_count": 8
        }
      ],
      "source": [
        "from Bio import SeqIO\n",
        "\n",
        "record = SeqIO.read(\"NC_005816.gb\", \"genbank\")\n",
        "record.seq"
      ]
    },
    {
      "cell_type": "markdown",
      "metadata": {
        "id": "clfbXFvrZVzp"
      },
      "source": [
        "How long is the DNA, and how which genes does it encode?"
      ]
    },
    {
      "cell_type": "code",
      "execution_count": 9,
      "metadata": {
        "colab": {
          "base_uri": "https://localhost:8080/"
        },
        "id": "hE31YBbOZVzp",
        "outputId": "afa1bbff-3582-441d-cca4-15df3f6a0cef"
      },
      "outputs": [
        {
          "output_type": "stream",
          "name": "stdout",
          "text": [
            "Length: 9609 bp\n",
            "No. features: 41 \n",
            "\n",
            "Feat. 3: putative transposase\n",
            "Feat. 8: transposase/IS protein\n",
            "Feat. 15: putative replication regulatory protein\n",
            "Feat. 18: hypothetical protein\n",
            "Feat. 21: pesticin immunity protein\n",
            "Feat. 23: pesticin\n",
            "Feat. 29: hypothetical protein\n",
            "Feat. 32: outer membrane protease\n",
            "Feat. 35: putative transcriptional regulator\n",
            "Feat. 38: hypothetical protein\n"
          ]
        }
      ],
      "source": [
        "print(\"Length:\", len(record.seq), \"bp\")\n",
        "print(\"No. features:\", len(record.features),\"\\n\")\n",
        "\n",
        "for i,feat in enumerate (record.features):\n",
        "    if (feat.type == \"CDS\"):\n",
        "        product = feat.qualifiers['product'][0]\n",
        "        print (\"Feat. %d: %s\" % (i, product))"
      ]
    },
    {
      "cell_type": "markdown",
      "metadata": {
        "id": "KAi24HHXZVzp"
      },
      "source": [
        "This plasmid encodes 41 features, including 10 genes. Let's focus on feature #18, which encodes a 'hypothetical protein'."
      ]
    },
    {
      "cell_type": "code",
      "execution_count": null,
      "metadata": {
        "id": "R77wHCSZZVzp",
        "outputId": "e8c8de42-640e-43f0-a5ec-8ea188c91f5b"
      },
      "outputs": [
        {
          "name": "stdout",
          "output_type": "stream",
          "text": [
            "Gene location\n",
            "Start: 3485 \n",
            "End: 3857\n",
            "GeneID: ['GI:45478715', 'GeneID:2767720']\n"
          ]
        }
      ],
      "source": [
        "feat = record.features[18]\n",
        "print (\"Gene location\\nStart:\", feat.location.start, \"\\nEnd:\", feat.location.end)\n",
        "print (\"GeneID:\", feat.qualifiers.get(\"db_xref\"))"
      ]
    },
    {
      "cell_type": "markdown",
      "metadata": {
        "id": "KZjJVDU_ZVzq"
      },
      "source": [
        "These data show us that the gene is located between bases 3485 and 3857. Let's retrieve that segment and translate it."
      ]
    },
    {
      "cell_type": "code",
      "execution_count": null,
      "metadata": {
        "id": "HZ-vDQ9bZVzq",
        "outputId": "b90c2022-d4da-4a5d-8515-1853ab3a8e13"
      },
      "outputs": [
        {
          "name": "stdout",
          "output_type": "stream",
          "text": [
            "VSKKRRPQKRPRRRRFFHRLRPPDEHHKNRRSSQRWRNPTGLKDTRRFPPEAPSCALLFRPCRLPDTSPPFSLREAWRFLIAHAVGISVRCRSFAPSWAVCTNPPFSPTTAPYPVTIVLSPTR*\n"
          ]
        }
      ],
      "source": [
        "my_gene = record[3485:3857]\n",
        "print (my_gene.seq.translate(table=\"Bacterial\"))"
      ]
    },
    {
      "cell_type": "markdown",
      "metadata": {
        "id": "jGOv2YEWZVzq"
      },
      "source": [
        "Now, let's find out more about this gene, using the NCBI Entrez database. We learned the accession number above: `GeneID: ['GI:45478715', 'GeneID:2767720']`.\n",
        "\n",
        "**20 May 2020**: Updated the following two cells to reflect changes in NCBI's Entrez database."
      ]
    },
    {
      "cell_type": "code",
      "execution_count": null,
      "metadata": {
        "id": "wpl1i_WhZVzq"
      },
      "outputs": [],
      "source": [
        "from Bio import Entrez"
      ]
    },
    {
      "cell_type": "code",
      "execution_count": null,
      "metadata": {
        "id": "6MfciNyXZVzr",
        "outputId": "398d918e-d706-4eca-db05-fb21d1468b13"
      },
      "outputs": [
        {
          "name": "stdout",
          "output_type": "stream",
          "text": [
            "LOCUS       AAS58761                 123 aa            linear   BCT 26-JUL-2016\n",
            "DEFINITION  conserved hypothetical protein (plasmid) [Yersinia pestis biovar\n",
            "            Microtus str. 91001].\n",
            "ACCESSION   AAS58761\n",
            "VERSION     AAS58761.1\n",
            "DBLINK      BioProject: PRJNA10638\n",
            "            BioSample: SAMN02602970\n",
            "DBSOURCE    accession AE017046.1\n",
            "KEYWORDS    .\n",
            "SOURCE      Yersinia pestis biovar Microtus str. 91001\n",
            "  ORGANISM  Yersinia pestis biovar Microtus str. 91001\n",
            "            Bacteria; Proteobacteria; Gammaproteobacteria; Enterobacterales;\n",
            "            Yersiniaceae; Yersinia.\n",
            "REFERENCE   1  (residues 1 to 123)\n",
            "  AUTHORS   Song,Y., Tong,Z., Wang,J., Wang,L., Guo,Z., Han,Y., Zhang,J.,\n",
            "            Pei,D., Zhou,D., Qin,H., Pang,X., Han,Y., Zhai,J., Li,M., Cui,B.,\n",
            "            Qi,Z., Jin,L., Dai,R., Chen,F., Li,S., Ye,C., Du,Z., Lin,W.,\n",
            "            Wang,J., Yu,J., Yang,H., Wang,J., Huang,P. and Yang,R.\n",
            "  TITLE     Complete genome sequence of Yersinia pestis strain 91001, an\n",
            "            isolate avirulent to humans\n",
            "  JOURNAL   DNA Res. 11 (3), 179-197 (2004)\n",
            "   PUBMED   15368893\n",
            "REFERENCE   2  (residues 1 to 123)\n",
            "  AUTHORS   Zhou,D., Tong,Z., Song,Y., Han,Y., Pei,D., Pang,X., Zhai,J., Li,M.,\n",
            "            Cui,B., Qi,Z., Jin,L., Dai,R., Du,Z., Wang,J., Guo,Z., Wang,J.,\n",
            "            Huang,P. and Yang,R.\n",
            "  TITLE     Genetics of metabolic variations between Yersinia pestis biovars\n",
            "            and the proposal of a new biovar, microtus\n",
            "  JOURNAL   J. Bacteriol. 186 (15), 5147-5152 (2004)\n",
            "   PUBMED   15262951\n",
            "REFERENCE   3  (residues 1 to 123)\n",
            "  AUTHORS   Song,Y., Tong,Z., Wang,L., Han,Y., Zhang,J., Pei,D., Wang,J.,\n",
            "            Zhou,D., Han,Y., Pang,X., Zhai,J., Chen,F., Qin,H., Wang,J., Li,S.,\n",
            "            Guo,Z., Ye,C., Du,Z., Lin,W., Wang,J., Yu,J., Yang,H., Wang,J.,\n",
            "            Huang,P. and Yang,R.\n",
            "  TITLE     Direct Submission\n",
            "  JOURNAL   Submitted (24-APR-2003) The Institute of Microbiology and\n",
            "            Epidemiology, Academy of Military Medical Sciences, No. 20,\n",
            "            Dongdajie Street, Fengtai District, Beijing 100071, People's\n",
            "            Republic of China\n",
            "COMMENT     Method: conceptual translation.\n",
            "FEATURES             Location/Qualifiers\n",
            "     source          1..123\n",
            "                     /organism=\"Yersinia pestis biovar Microtus str. 91001\"\n",
            "                     /strain=\"91001\"\n",
            "                     /sub_species=\"microtus\"\n",
            "                     /db_xref=\"taxon:229193\"\n",
            "                     /plasmid=\"pPCP1\"\n",
            "                     /note=\"biovar: Microtus\"\n",
            "     Protein         1..123\n",
            "                     /product=\"conserved hypothetical protein\"\n",
            "     CDS             1..123\n",
            "                     /locus_tag=\"YP_pPCP04\"\n",
            "                     /old_locus_tag=\"pPCP04\"\n",
            "                     /coded_by=\"AE017046.1:3486..3857\"\n",
            "                     /note=\"Best Blastp hit = gi|321919|pir||JQ1541\n",
            "                     hypothetical 16.9K protein - Salmonella typhi murium\n",
            "                     plasmid NTP16.\"\n",
            "                     /transl_table=11\n",
            "ORIGIN      \n",
            "        1 mskkrrpqkr prrrrffhrl rppdehhknr rssqrwrnpt glkdtrrfpp eapscallfr\n",
            "       61 pcrlpdtspp fslreawrfl iahavgisvr crsfapswav ctnppfsptt apypvtivls\n",
            "      121 ptr\n",
            "//\n",
            "\n",
            "\n"
          ]
        }
      ],
      "source": [
        "Entrez.email = \"A.N.Other@example.com\"  # Always tell NCBI who you are\n",
        "with Entrez.efetch (db=\"protein\",rettype=\"gb\",retmode=\"text\",id=\"AAS58761\") as handle:\n",
        "   print (handle.read())\n",
        "# handle = Entrez.efetch (db=\"nucleotide\",id=\"45478715\",rettype=\"gb\",retmode=\"text\")\n",
        "# print (handle.read())"
      ]
    },
    {
      "cell_type": "markdown",
      "metadata": {
        "id": "-i5f0HqSZVzr"
      },
      "source": [
        "Jupyter also supports interactive data exploration. Here we'll add an interactive map, just as in our June [mapping feature](https://www.nature.com/articles/d41586-018-05331-6) -- something you might do when working with geospatial data. This requires the Python Leaflet library, folium."
      ]
    },
    {
      "cell_type": "code",
      "execution_count": null,
      "metadata": {
        "id": "f9oDjypiZVzr"
      },
      "outputs": [],
      "source": [
        "import folium"
      ]
    },
    {
      "cell_type": "markdown",
      "metadata": {
        "id": "1NJeiIQ3ZVzr"
      },
      "source": [
        "Now we create a simple map: a few points in London, Oxford and Cambridge, overlaid on either a street map, or on a map of geological data provided by the [Macrostrat Project](https://macrostrat.org/)."
      ]
    },
    {
      "cell_type": "code",
      "execution_count": null,
      "metadata": {
        "id": "ibk9woceZVzr"
      },
      "outputs": [],
      "source": [
        "coords = {\n",
        "    0: { \"name\": \"Nature\", \"lat\": 51.533925, \"long\": -0.121553 },\n",
        "    1: { \"name\": \"Francis Crick Institite\", \"lat\": 51.531877, \"long\": -0.128767 },\n",
        "    2: { \"name\": \"MRC Laboratory for Molecular Cell Biology\", \"lat\": 51.524435, \"long\": -0.132495 },\n",
        "    3: { \"name\": \"Kings College London\", \"lat\": 51.511573, \"long\": -0.116083 },\n",
        "    4: { \"name\": \"Imperial College London\", \"lat\": 51.498780, \"long\": -0.174888 },\n",
        "    5: { \"name\": \"Cambridge University\", \"lat\": 52.206960, \"long\": 0.115034 },\n",
        "    6: { \"name\": \"Oxford University\", \"lat\": 51.754843, \"long\": -1.254302 },\n",
        "    7: { \"name\": \"Platform 9 3/4\", \"lat\": 51.532349, \"long\": -0.123806 }\n",
        "}"
      ]
    },
    {
      "cell_type": "code",
      "execution_count": null,
      "metadata": {
        "id": "b5BqMr1eZVzr",
        "outputId": "3340c629-6ef4-4d9f-8fa5-5fd44c70196d"
      },
      "outputs": [
        {
          "data": {
            "text/plain": [
              "<folium.features.LatLngPopup at 0x120acde50>"
            ]
          },
          "execution_count": 14,
          "metadata": {},
          "output_type": "execute_result"
        }
      ],
      "source": [
        "m = folium.Map(location = [51.8561, -0.2966], tiles = 'CartoDB positron', zoom_start = 9)\n",
        "\n",
        "# add the locations to the map\n",
        "for key in coords.keys():\n",
        "    folium.CircleMarker(\n",
        "    location=[coords[key]['lat'], coords[key]['long']],\n",
        "    popup=coords[key]['name'],\n",
        "    color=('crimson' if coords[key]['name'] == 'Nature' else 'blue'),\n",
        "    fill=False,\n",
        "    ).add_to(m)\n",
        "\n",
        "# pull in the Macrostrat tile layer\n",
        "folium.TileLayer(tiles='https://tiles.macrostrat.org/carto/{z}/{x}/{y}.png',\n",
        "                 attr='Macrostrat', name='Macrostrat').add_to(m)\n",
        "folium.LayerControl().add_to(m) # allow user to switch between layers\n",
        "folium.LatLngPopup().add_to(m) # click on the map to get Lat/Long in a popup"
      ]
    },
    {
      "cell_type": "markdown",
      "metadata": {
        "id": "LXnok3BWZVzs"
      },
      "source": [
        "Draw the map. **Note that this map is interactive**: you can zoom, pan, click the points of interest, and alternate between the two layers (by clicking on the tiles icon in the upper-right corner of the map). If you click anywhere on the map, a popup will appear showing the latitude and longitude of that position."
      ]
    },
    {
      "cell_type": "code",
      "execution_count": null,
      "metadata": {
        "id": "jPmxgVgyZVzs",
        "outputId": "4e2d3d32-eae1-449e-ec58-b6a0faf84f1a"
      },
      "outputs": [
        {
          "data": {
            "text/html": [
              "<div style=\"width:100%;\"><div style=\"position:relative;width:100%;height:0;padding-bottom:60%;\"><span style=\"color:#565656\">Make this Notebook Trusted to load map: File -> Trust Notebook</span><iframe src=\"about:blank\" style=\"position:absolute;width:100%;height:100%;left:0;top:0;border:none !important;\" data-html=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 onload=\"this.contentDocument.open();this.contentDocument.write(atob(this.getAttribute('data-html')));this.contentDocument.close();\" allowfullscreen webkitallowfullscreen mozallowfullscreen></iframe></div></div>"
            ],
            "text/plain": [
              "<folium.folium.Map at 0x120ae1910>"
            ]
          },
          "execution_count": 15,
          "metadata": {},
          "output_type": "execute_result"
        }
      ],
      "source": [
        "m"
      ]
    },
    {
      "cell_type": "markdown",
      "metadata": {
        "id": "3rX0hrJpZVzs"
      },
      "source": [
        "Document our session, for [computational reproducibility](https://www.nature.com/articles/d41586-018-05990-5)!"
      ]
    },
    {
      "cell_type": "code",
      "execution_count": null,
      "metadata": {
        "id": "itXBV17nZVzs",
        "outputId": "3c9ed88f-5db2-4908-ff54-5c99a364b6cb"
      },
      "outputs": [
        {
          "name": "stdout",
          "output_type": "stream",
          "text": [
            "{'commit_hash': '8bda98619',\n",
            " 'commit_source': 'installation',\n",
            " 'default_encoding': 'UTF-8',\n",
            " 'ipython_path': '/opt/anaconda3/lib/python3.7/site-packages/IPython',\n",
            " 'ipython_version': '7.12.0',\n",
            " 'os_name': 'posix',\n",
            " 'platform': 'Darwin-18.7.0-x86_64-i386-64bit',\n",
            " 'sys_executable': '/opt/anaconda3/bin/python',\n",
            " 'sys_platform': 'darwin',\n",
            " 'sys_version': '3.7.6 (default, Jan  8 2020, 13:42:34) \\n'\n",
            "                '[Clang 4.0.1 (tags/RELEASE_401/final)]'}\n"
          ]
        }
      ],
      "source": [
        "import IPython\n",
        "print(IPython.sys_info())"
      ]
    },
    {
      "cell_type": "code",
      "execution_count": null,
      "metadata": {
        "id": "ZARAbnMGZVzt",
        "outputId": "3c675f7b-3540-4986-fc6a-6db432970ef2"
      },
      "outputs": [
        {
          "name": "stdout",
          "output_type": "stream",
          "text": [
            "biopython==1.76\n",
            "folium==0.11.0\n",
            "matplotlib==3.1.3\n"
          ]
        }
      ],
      "source": [
        "!pip freeze | grep -E 'folium|matplotlib|biopython'"
      ]
    },
    {
      "cell_type": "code",
      "execution_count": null,
      "metadata": {
        "id": "PXYCJHx8ZVzt"
      },
      "outputs": [],
      "source": []
    }
  ],
  "metadata": {
    "kernelspec": {
      "display_name": "Python 3",
      "language": "python",
      "name": "python3"
    },
    "language_info": {
      "codemirror_mode": {
        "name": "ipython",
        "version": 3
      },
      "file_extension": ".py",
      "mimetype": "text/x-python",
      "name": "python",
      "nbconvert_exporter": "python",
      "pygments_lexer": "ipython3",
      "version": "3.7.6"
    },
    "colab": {
      "provenance": []
    }
  },
  "nbformat": 4,
  "nbformat_minor": 0
}